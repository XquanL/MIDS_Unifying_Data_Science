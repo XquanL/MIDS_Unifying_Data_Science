{
 "cells": [
  {
   "attachments": {},
   "cell_type": "markdown",
   "metadata": {},
   "source": [
    "# A/B Testing the Udacity Website"
   ]
  },
  {
   "cell_type": "code",
   "execution_count": 1,
   "metadata": {},
   "outputs": [],
   "source": [
    "import pandas as pd\n",
    "import numpy as np\n",
    "import matplotlib.pyplot as plt\n",
    "from scipy import stats\n",
    "import statsmodels.api as sm\n",
    "import statsmodels.formula.api as smf"
   ]
  },
  {
   "attachments": {},
   "cell_type": "markdown",
   "metadata": {},
   "source": [
    "## Exercise 1\n",
    "### Import data"
   ]
  },
  {
   "cell_type": "code",
   "execution_count": 2,
   "metadata": {},
   "outputs": [],
   "source": [
    "control_df = pd.read_csv('https://media.githubusercontent.com/media'+\n",
    "                         '/nickeubank/MIDS_Data/master/udacity_AB_testing' + \n",
    "                         '/control_data.csv')\n",
    "experiment_df = pd.read_csv('https://media.githubusercontent.com/media'+\n",
    "                            '/nickeubank/MIDS_Data/master/udacity_AB_testing'+\n",
    "                            '/experiment_data.csv')"
   ]
  },
  {
   "attachments": {},
   "cell_type": "markdown",
   "metadata": {},
   "source": [
    "## Exercise 2\n",
    "### Explore the data\n",
    "* The situation of the course overview page on a single day is represented by each row, which is the unit of observation of the data."
   ]
  },
  {
   "cell_type": "code",
   "execution_count": 3,
   "metadata": {},
   "outputs": [
    {
     "data": {
      "text/html": [
       "<div>\n",
       "<style scoped>\n",
       "    .dataframe tbody tr th:only-of-type {\n",
       "        vertical-align: middle;\n",
       "    }\n",
       "\n",
       "    .dataframe tbody tr th {\n",
       "        vertical-align: top;\n",
       "    }\n",
       "\n",
       "    .dataframe thead th {\n",
       "        text-align: right;\n",
       "    }\n",
       "</style>\n",
       "<table border=\"1\" class=\"dataframe\">\n",
       "  <thead>\n",
       "    <tr style=\"text-align: right;\">\n",
       "      <th></th>\n",
       "      <th>Date</th>\n",
       "      <th>Pageviews</th>\n",
       "      <th>Clicks</th>\n",
       "      <th>Enrollments</th>\n",
       "      <th>Payments</th>\n",
       "    </tr>\n",
       "  </thead>\n",
       "  <tbody>\n",
       "    <tr>\n",
       "      <th>31</th>\n",
       "      <td>Tue, Nov 11</td>\n",
       "      <td>9880</td>\n",
       "      <td>830</td>\n",
       "      <td>NaN</td>\n",
       "      <td>NaN</td>\n",
       "    </tr>\n",
       "    <tr>\n",
       "      <th>7</th>\n",
       "      <td>Sat, Oct 18</td>\n",
       "      <td>7434</td>\n",
       "      <td>632</td>\n",
       "      <td>110.0</td>\n",
       "      <td>70.0</td>\n",
       "    </tr>\n",
       "    <tr>\n",
       "      <th>17</th>\n",
       "      <td>Tue, Oct 28</td>\n",
       "      <td>9363</td>\n",
       "      <td>736</td>\n",
       "      <td>154.0</td>\n",
       "      <td>91.0</td>\n",
       "    </tr>\n",
       "    <tr>\n",
       "      <th>1</th>\n",
       "      <td>Sun, Oct 12</td>\n",
       "      <td>9102</td>\n",
       "      <td>779</td>\n",
       "      <td>147.0</td>\n",
       "      <td>70.0</td>\n",
       "    </tr>\n",
       "    <tr>\n",
       "      <th>27</th>\n",
       "      <td>Fri, Nov 7</td>\n",
       "      <td>9424</td>\n",
       "      <td>781</td>\n",
       "      <td>NaN</td>\n",
       "      <td>NaN</td>\n",
       "    </tr>\n",
       "  </tbody>\n",
       "</table>\n",
       "</div>"
      ],
      "text/plain": [
       "           Date  Pageviews  Clicks  Enrollments  Payments\n",
       "31  Tue, Nov 11       9880     830          NaN       NaN\n",
       "7   Sat, Oct 18       7434     632        110.0      70.0\n",
       "17  Tue, Oct 28       9363     736        154.0      91.0\n",
       "1   Sun, Oct 12       9102     779        147.0      70.0\n",
       "27   Fri, Nov 7       9424     781          NaN       NaN"
      ]
     },
     "execution_count": 3,
     "metadata": {},
     "output_type": "execute_result"
    }
   ],
   "source": [
    "control_df.sample(5)"
   ]
  },
  {
   "cell_type": "code",
   "execution_count": 4,
   "metadata": {},
   "outputs": [
    {
     "data": {
      "text/html": [
       "<div>\n",
       "<style scoped>\n",
       "    .dataframe tbody tr th:only-of-type {\n",
       "        vertical-align: middle;\n",
       "    }\n",
       "\n",
       "    .dataframe tbody tr th {\n",
       "        vertical-align: top;\n",
       "    }\n",
       "\n",
       "    .dataframe thead th {\n",
       "        text-align: right;\n",
       "    }\n",
       "</style>\n",
       "<table border=\"1\" class=\"dataframe\">\n",
       "  <thead>\n",
       "    <tr style=\"text-align: right;\">\n",
       "      <th></th>\n",
       "      <th>Date</th>\n",
       "      <th>Pageviews</th>\n",
       "      <th>Clicks</th>\n",
       "      <th>Enrollments</th>\n",
       "      <th>Payments</th>\n",
       "    </tr>\n",
       "  </thead>\n",
       "  <tbody>\n",
       "    <tr>\n",
       "      <th>19</th>\n",
       "      <td>Thu, Oct 30</td>\n",
       "      <td>9308</td>\n",
       "      <td>728</td>\n",
       "      <td>207.0</td>\n",
       "      <td>67.0</td>\n",
       "    </tr>\n",
       "    <tr>\n",
       "      <th>30</th>\n",
       "      <td>Mon, Nov 10</td>\n",
       "      <td>10445</td>\n",
       "      <td>851</td>\n",
       "      <td>NaN</td>\n",
       "      <td>NaN</td>\n",
       "    </tr>\n",
       "    <tr>\n",
       "      <th>1</th>\n",
       "      <td>Sun, Oct 12</td>\n",
       "      <td>9288</td>\n",
       "      <td>785</td>\n",
       "      <td>116.0</td>\n",
       "      <td>91.0</td>\n",
       "    </tr>\n",
       "    <tr>\n",
       "      <th>5</th>\n",
       "      <td>Thu, Oct 16</td>\n",
       "      <td>9500</td>\n",
       "      <td>788</td>\n",
       "      <td>129.0</td>\n",
       "      <td>61.0</td>\n",
       "    </tr>\n",
       "    <tr>\n",
       "      <th>20</th>\n",
       "      <td>Fri, Oct 31</td>\n",
       "      <td>8715</td>\n",
       "      <td>722</td>\n",
       "      <td>182.0</td>\n",
       "      <td>123.0</td>\n",
       "    </tr>\n",
       "  </tbody>\n",
       "</table>\n",
       "</div>"
      ],
      "text/plain": [
       "           Date  Pageviews  Clicks  Enrollments  Payments\n",
       "19  Thu, Oct 30       9308     728        207.0      67.0\n",
       "30  Mon, Nov 10      10445     851          NaN       NaN\n",
       "1   Sun, Oct 12       9288     785        116.0      91.0\n",
       "5   Thu, Oct 16       9500     788        129.0      61.0\n",
       "20  Fri, Oct 31       8715     722        182.0     123.0"
      ]
     },
     "execution_count": 4,
     "metadata": {},
     "output_type": "execute_result"
    }
   ],
   "source": [
    "experiment_df.sample(5)"
   ]
  },
  {
   "attachments": {},
   "cell_type": "markdown",
   "metadata": {},
   "source": [
    "## Exercise 3\n",
    "### Stack data into a single dataset"
   ]
  },
  {
   "cell_type": "code",
   "execution_count": 5,
   "metadata": {},
   "outputs": [
    {
     "data": {
      "text/html": [
       "<div>\n",
       "<style scoped>\n",
       "    .dataframe tbody tr th:only-of-type {\n",
       "        vertical-align: middle;\n",
       "    }\n",
       "\n",
       "    .dataframe tbody tr th {\n",
       "        vertical-align: top;\n",
       "    }\n",
       "\n",
       "    .dataframe thead th {\n",
       "        text-align: right;\n",
       "    }\n",
       "</style>\n",
       "<table border=\"1\" class=\"dataframe\">\n",
       "  <thead>\n",
       "    <tr style=\"text-align: right;\">\n",
       "      <th></th>\n",
       "      <th>Date</th>\n",
       "      <th>Pageviews</th>\n",
       "      <th>Clicks</th>\n",
       "      <th>Enrollments</th>\n",
       "      <th>Payments</th>\n",
       "      <th>treatment</th>\n",
       "    </tr>\n",
       "  </thead>\n",
       "  <tbody>\n",
       "    <tr>\n",
       "      <th>5</th>\n",
       "      <td>Thu, Oct 16</td>\n",
       "      <td>9670</td>\n",
       "      <td>823</td>\n",
       "      <td>138.0</td>\n",
       "      <td>82.0</td>\n",
       "      <td>control</td>\n",
       "    </tr>\n",
       "    <tr>\n",
       "      <th>28</th>\n",
       "      <td>Sat, Nov 8</td>\n",
       "      <td>8969</td>\n",
       "      <td>760</td>\n",
       "      <td>NaN</td>\n",
       "      <td>NaN</td>\n",
       "      <td>experiment</td>\n",
       "    </tr>\n",
       "    <tr>\n",
       "      <th>27</th>\n",
       "      <td>Fri, Nov 7</td>\n",
       "      <td>9272</td>\n",
       "      <td>767</td>\n",
       "      <td>NaN</td>\n",
       "      <td>NaN</td>\n",
       "      <td>experiment</td>\n",
       "    </tr>\n",
       "    <tr>\n",
       "      <th>18</th>\n",
       "      <td>Wed, Oct 29</td>\n",
       "      <td>9262</td>\n",
       "      <td>727</td>\n",
       "      <td>201.0</td>\n",
       "      <td>96.0</td>\n",
       "      <td>experiment</td>\n",
       "    </tr>\n",
       "    <tr>\n",
       "      <th>4</th>\n",
       "      <td>Wed, Oct 15</td>\n",
       "      <td>9793</td>\n",
       "      <td>832</td>\n",
       "      <td>140.0</td>\n",
       "      <td>94.0</td>\n",
       "      <td>experiment</td>\n",
       "    </tr>\n",
       "    <tr>\n",
       "      <th>35</th>\n",
       "      <td>Sat, Nov 15</td>\n",
       "      <td>8630</td>\n",
       "      <td>743</td>\n",
       "      <td>NaN</td>\n",
       "      <td>NaN</td>\n",
       "      <td>control</td>\n",
       "    </tr>\n",
       "    <tr>\n",
       "      <th>9</th>\n",
       "      <td>Mon, Oct 20</td>\n",
       "      <td>10496</td>\n",
       "      <td>860</td>\n",
       "      <td>153.0</td>\n",
       "      <td>98.0</td>\n",
       "      <td>experiment</td>\n",
       "    </tr>\n",
       "    <tr>\n",
       "      <th>14</th>\n",
       "      <td>Sat, Oct 25</td>\n",
       "      <td>8687</td>\n",
       "      <td>691</td>\n",
       "      <td>176.0</td>\n",
       "      <td>128.0</td>\n",
       "      <td>control</td>\n",
       "    </tr>\n",
       "    <tr>\n",
       "      <th>3</th>\n",
       "      <td>Tue, Oct 14</td>\n",
       "      <td>9867</td>\n",
       "      <td>827</td>\n",
       "      <td>138.0</td>\n",
       "      <td>92.0</td>\n",
       "      <td>experiment</td>\n",
       "    </tr>\n",
       "    <tr>\n",
       "      <th>2</th>\n",
       "      <td>Mon, Oct 13</td>\n",
       "      <td>10511</td>\n",
       "      <td>909</td>\n",
       "      <td>167.0</td>\n",
       "      <td>95.0</td>\n",
       "      <td>control</td>\n",
       "    </tr>\n",
       "  </tbody>\n",
       "</table>\n",
       "</div>"
      ],
      "text/plain": [
       "           Date  Pageviews  Clicks  Enrollments  Payments   treatment\n",
       "5   Thu, Oct 16       9670     823        138.0      82.0     control\n",
       "28   Sat, Nov 8       8969     760          NaN       NaN  experiment\n",
       "27   Fri, Nov 7       9272     767          NaN       NaN  experiment\n",
       "18  Wed, Oct 29       9262     727        201.0      96.0  experiment\n",
       "4   Wed, Oct 15       9793     832        140.0      94.0  experiment\n",
       "35  Sat, Nov 15       8630     743          NaN       NaN     control\n",
       "9   Mon, Oct 20      10496     860        153.0      98.0  experiment\n",
       "14  Sat, Oct 25       8687     691        176.0     128.0     control\n",
       "3   Tue, Oct 14       9867     827        138.0      92.0  experiment\n",
       "2   Mon, Oct 13      10511     909        167.0      95.0     control"
      ]
     },
     "execution_count": 5,
     "metadata": {},
     "output_type": "execute_result"
    }
   ],
   "source": [
    "# add treatment column to each dataframe\n",
    "control_df['treatment'] = 'control'\n",
    "experiment_df['treatment'] = 'experiment'\n",
    "\n",
    "# combine the two dataframes\n",
    "df_whole = pd.concat([control_df, experiment_df])\n",
    "df_whole.sample(10)"
   ]
  },
  {
   "attachments": {},
   "cell_type": "markdown",
   "metadata": {},
   "source": [
    "## Exercise 4\n",
    "* Given Udacity's goals, they are hoping:\n",
    "\n",
    "* Potential Outcomes Framework/Overall Evaluation Criterion (OEC): **(Enrollments(Number of people enrolling in trial) - Payments(Number of people who eventually pay for the service)) / Click（number of those users clicking “Start Free Trial”）**\n"
   ]
  },
  {
   "attachments": {},
   "cell_type": "markdown",
   "metadata": {},
   "source": [
    "## Exercise 5\n",
    "* They are hoping that the number of students to continue past the free trial and eventually complete the course will not be impacted by the manipulation, that is the **Payments: Number of people who eventually pay for the service.**"
   ]
  },
  {
   "attachments": {},
   "cell_type": "markdown",
   "metadata": {},
   "source": [
    "## Exercise 6\n",
    "### Test the quality of the randomization"
   ]
  },
  {
   "cell_type": "code",
   "execution_count": 6,
   "metadata": {},
   "outputs": [
    {
     "data": {
      "text/plain": [
       "Date            0\n",
       "Pageviews       0\n",
       "Clicks          0\n",
       "Enrollments    28\n",
       "Payments       28\n",
       "treatment       0\n",
       "dtype: int64"
      ]
     },
     "execution_count": 6,
     "metadata": {},
     "output_type": "execute_result"
    }
   ],
   "source": [
    "# check nan in each column\n",
    "df_whole.isnull().sum()"
   ]
  },
  {
   "cell_type": "code",
   "execution_count": 7,
   "metadata": {},
   "outputs": [
    {
     "name": "stdout",
     "output_type": "stream",
     "text": [
      "The avergae number of pageviews for the control group is:  9339.0\n",
      "The avergae number of pageviews for the experiment group is:  9315.14\n",
      "The difference in the average number of pageviews between the two groups is:  -23.86\n"
     ]
    }
   ],
   "source": [
    "# calculate the average number of pageviews \n",
    "# for the treated group and for the control group\n",
    "avg_pv_control = df_whole.loc[df_whole[\n",
    "    'treatment']== 'control','Pageviews'].mean()\n",
    "avg_pv_experiment = df_whole.loc[df_whole[\n",
    "    'treatment']== 'experiment','Pageviews'].mean()\n",
    "print('The avergae number of pageviews for the control group is: ',\n",
    "       round(avg_pv_control,2))\n",
    "print('The avergae number of pageviews for the experiment group is: ',\n",
    "       round(avg_pv_experiment,2))\n",
    "print('The difference in the average number of pageviews', \n",
    "      'between the two groups is: ', \n",
    "      round(avg_pv_experiment - avg_pv_control,2))\n"
   ]
  },
  {
   "attachments": {},
   "cell_type": "markdown",
   "metadata": {},
   "source": [
    "* **The average number of pageviews for the treated group and for the control group looks similar** with 23.86 difference in the average number of pageviews between the two groups.\n"
   ]
  },
  {
   "attachments": {},
   "cell_type": "markdown",
   "metadata": {},
   "source": [
    "## Exercise 7\n",
    "### Use a ttest to test the statistical significance of the differences"
   ]
  },
  {
   "cell_type": "code",
   "execution_count": 8,
   "metadata": {},
   "outputs": [
    {
     "name": "stdout",
     "output_type": "stream",
     "text": [
      "The p-value is:  0.89 and the t-statistic is:  0.14\n"
     ]
    }
   ],
   "source": [
    "#t test\n",
    "t,p = stats.ttest_ind(control_df['Pageviews'], experiment_df['Pageviews'])\n",
    "#t1,p1 = \n",
    "# stats.ttest_ind(control_df.Pageviews.values, experiment_df.Pageviews.values)\n",
    "print('The p-value is: ', round(p,2), 'and the t-statistic is: ', round(t,2))\n",
    "#print('The p-value is: ', p1, 'and the t-statistic is: ', t1)"
   ]
  },
  {
   "attachments": {},
   "cell_type": "markdown",
   "metadata": {},
   "source": [
    "* With a p-value equals to 0.89 (> 0.05), the difference between the average number of pageviews for the treated group and for the control group is **not statistically significant**."
   ]
  },
  {
   "attachments": {},
   "cell_type": "markdown",
   "metadata": {},
   "source": [
    "## Exercise 8\n",
    "* The **Clicks(number of those users clicking “Start Free Trial”)** is also pre-treatment since people have to click the 'Start Free Trial' before they get a chance to see the treatment."
   ]
  },
  {
   "attachments": {},
   "cell_type": "markdown",
   "metadata": {},
   "source": [
    "## Exercise 9\n",
    "### Check if 'Clicks' is balanced"
   ]
  },
  {
   "cell_type": "code",
   "execution_count": 9,
   "metadata": {},
   "outputs": [
    {
     "name": "stdout",
     "output_type": "stream",
     "text": [
      "The avergae number of clicks for the control group is:  766.97\n",
      "The avergae number of clicks for the experiment group is:  765.54\n",
      "The difference in the average number of clicks between the two groups is:  -1.43\n"
     ]
    }
   ],
   "source": [
    "avg_click_control = df_whole.loc[df_whole[\n",
    "    'treatment']== 'control','Clicks'].mean()\n",
    "avg_click_experiment = df_whole.loc[df_whole[\n",
    "    'treatment']== 'experiment','Clicks'].mean()\n",
    "print('The avergae number of clicks for the control group is: ',\n",
    "       round(avg_click_control,2))\n",
    "print('The avergae number of clicks for the experiment group is: ',\n",
    "       round(avg_click_experiment,2))\n",
    "print('The difference in the average number of clicks', \n",
    "      'between the two groups is: ', \n",
    "      round(avg_click_experiment - avg_click_control,2))"
   ]
  },
  {
   "cell_type": "code",
   "execution_count": 10,
   "metadata": {},
   "outputs": [
    {
     "name": "stdout",
     "output_type": "stream",
     "text": [
      "The p-value is:  0.93 and the t-statistic is:  0.09\n"
     ]
    }
   ],
   "source": [
    "t1,p1 = stats.ttest_ind(control_df.Clicks.values, experiment_df.Clicks.values)\n",
    "print('The p-value is: ', \n",
    "      round(p1,2), 'and the t-statistic is: ', round(t1,2))"
   ]
  },
  {
   "attachments": {},
   "cell_type": "markdown",
   "metadata": {},
   "source": [
    "* **The average number of users clicking “Start Free Trials\"(Clicks) for the treated group and for the control group looks similar** with 1.43 difference in the average number of Clicks between the two groups.\n",
    "\n",
    "* With a p-value equals to 0.93 (> 0.05), the difference between the average number of users clicking “Start Free Trials\"(Clicks) for the treated group and for the control group is **not statistically significant**."
   ]
  },
  {
   "attachments": {},
   "cell_type": "markdown",
   "metadata": {},
   "source": [
    "## Exercise 10\n",
    "### Evaluate the effects of the experiment"
   ]
  },
  {
   "cell_type": "code",
   "execution_count": 11,
   "metadata": {},
   "outputs": [
    {
     "data": {
      "text/plain": [
       "((46, 7),\n",
       " (74, 6),\n",
       " Date                       0\n",
       " Pageviews                  0\n",
       " Clicks                     0\n",
       " Enrollments                0\n",
       " Payments                   0\n",
       " treatment                  0\n",
       " enroll_no_pay_per_click    0\n",
       " dtype: int64)"
      ]
     },
     "execution_count": 11,
     "metadata": {},
     "output_type": "execute_result"
    }
   ],
   "source": [
    "# check whether the Payments and Enrollment-payments \n",
    "# per click is different between the two groups\n",
    "# drop nan in Payments and Enrollment\n",
    "df_new = df_whole.dropna().copy()\n",
    "# add a new column'Enrollment-payments'\n",
    "df_new['enroll_no_pay_per_click'] = (\n",
    "    df_new['Enrollments'] - df_new['Payments'])/df_new['Clicks']\n",
    "df_new.shape, df_whole.shape, df_new.isnull().sum()\n"
   ]
  },
  {
   "cell_type": "code",
   "execution_count": 12,
   "metadata": {},
   "outputs": [
    {
     "name": "stdout",
     "output_type": "stream",
     "text": [
      "The avergae number of payments for the control group is:  88.39\n",
      "The avergae number of payments for the experiment group is:  84.57\n",
      "The difference in the average number of payments between the two groups is:  -3.83\n"
     ]
    }
   ],
   "source": [
    "# check whether the Payments is different between the two groups\n",
    "avg_pay_control = df_new.loc[df_new[\n",
    "    'treatment']== 'control','Payments'].mean()\n",
    "avg_pay_experiment = df_new.loc[df_new[\n",
    "    'treatment']== 'experiment','Payments'].mean()\n",
    "print('The avergae number of payments for the control group is: ',\n",
    "       round(avg_pay_control,2))\n",
    "print('The avergae number of payments for the experiment group is: ',\n",
    "       round(avg_pay_experiment,2))\n",
    "print('The difference in the average number of payments', \n",
    "      'between the two groups is: ', \n",
    "      round(avg_pay_experiment - avg_pay_control,2))"
   ]
  },
  {
   "cell_type": "code",
   "execution_count": 13,
   "metadata": {},
   "outputs": [
    {
     "name": "stdout",
     "output_type": "stream",
     "text": [
      "The p-value is:  0.56 and the t-statistic is:  0.59\n"
     ]
    }
   ],
   "source": [
    "t2,p2 = stats.ttest_ind(df_new.loc[df_new[\n",
    "    'treatment']== 'control','Payments'].values,\n",
    "                         df_new.loc[df_new[\n",
    "    'treatment']== 'experiment','Payments'].values)\n",
    "print('The p-value is: ', round(p2,2),\n",
    "       'and the t-statistic is: ', round(t2,2))"
   ]
  },
  {
   "cell_type": "code",
   "execution_count": 14,
   "metadata": {},
   "outputs": [
    {
     "name": "stdout",
     "output_type": "stream",
     "text": [
      "The avergae number of enrollments-payments per click for the control group is:  0.1\n",
      "The avergae number of enrollments-payments per click for the experiment group is:  0.09\n",
      "The difference in the average number of enrollments but no payment students per click between the two groups is:  -0.0159\n"
     ]
    }
   ],
   "source": [
    "# check whether the Enrollment is different between the two groups\n",
    "avg_enroll_pay_per_click_control = df_new.loc[\n",
    "    df_new['treatment']== 'control','enroll_no_pay_per_click'].mean()\n",
    "avg_enroll_pay_per_click_experiment = df_new.loc[\n",
    "    df_new['treatment']== 'experiment','enroll_no_pay_per_click'].mean()\n",
    "print('The avergae number of enrollments-payments per click', \n",
    "      'for the control group is: ', round(avg_enroll_pay_per_click_control,2))\n",
    "print('The avergae number of enrollments-payments per click', \n",
    "      'for the experiment group is: ', \n",
    "      round(avg_enroll_pay_per_click_experiment,2))\n",
    "print('The difference in the average number of enrollments', \n",
    "      'but no payment students per click between the two groups is: ',\n",
    "round(\n",
    "    avg_enroll_pay_per_click_experiment - avg_enroll_pay_per_click_control,4))"
   ]
  },
  {
   "cell_type": "code",
   "execution_count": 15,
   "metadata": {},
   "outputs": [
    {
     "name": "stdout",
     "output_type": "stream",
     "text": [
      "The p-value is:  0.132 and the t-statistic is:  1.535\n"
     ]
    }
   ],
   "source": [
    "t3,p3 = stats.ttest_ind(df_new.loc[df_new[\n",
    "    'treatment']== 'control','enroll_no_pay_per_click'].values,\n",
    "                            df_new.loc[df_new[\n",
    "    'treatment']== 'experiment','enroll_no_pay_per_click'].values)\n",
    "print('The p-value is: ', round(p3,3), 'and the t-statistic is: ',\n",
    "       round(t3,3))"
   ]
  },
  {
   "attachments": {},
   "cell_type": "markdown",
   "metadata": {},
   "source": [
    "* Given the results above, we can tell that the metric we don’t want affected(Payments) is not affected since the average payments for the treated group and for the control group looks similar with 3.83 difference in the average payments between the two groups. With a p-value equals to 0.56 (> 0.05), the difference between the average payments for the treated group and for the control group is **not statistically significant**.\n",
    "\n",
    "* For enrollments-payments/click(the difference between the number of people enrolling in trial and the number of people who eventually pay for the service per click), which is the OEC that we want to test is affected since there are 11.91 differences in the average number of enrollments-payments between the two groups **(the experiment group has 0.02 fewer avergae number of enrollments-payments/click compared to the control group)**. However, with a p-value equals 0.132, this difference is not statistically significant.\n",
    "\n",
    "* In a word, Udacity didn't achieve their goals."
   ]
  },
  {
   "attachments": {},
   "cell_type": "markdown",
   "metadata": {},
   "source": [
    "## Exercise 11\n",
    "### Re-estimating the effect of treatment on the OEC using a linear regression"
   ]
  },
  {
   "cell_type": "code",
   "execution_count": 16,
   "metadata": {},
   "outputs": [
    {
     "data": {
      "text/html": [
       "<table class=\"simpletable\">\n",
       "<caption>OLS Regression Results</caption>\n",
       "<tr>\n",
       "  <th>Dep. Variable:</th>    <td>enroll_no_pay_per_click</td> <th>  R-squared:         </th> <td>   0.051</td>\n",
       "</tr>\n",
       "<tr>\n",
       "  <th>Model:</th>                      <td>OLS</td>           <th>  Adj. R-squared:    </th> <td>   0.029</td>\n",
       "</tr>\n",
       "<tr>\n",
       "  <th>Method:</th>                <td>Least Squares</td>      <th>  F-statistic:       </th> <td>   2.356</td>\n",
       "</tr>\n",
       "<tr>\n",
       "  <th>Date:</th>                <td>Mon, 27 Mar 2023</td>     <th>  Prob (F-statistic):</th>  <td> 0.132</td> \n",
       "</tr>\n",
       "<tr>\n",
       "  <th>Time:</th>                    <td>22:41:49</td>         <th>  Log-Likelihood:    </th> <td>  89.832</td>\n",
       "</tr>\n",
       "<tr>\n",
       "  <th>No. Observations:</th>         <td>    46</td>          <th>  AIC:               </th> <td>  -175.7</td>\n",
       "</tr>\n",
       "<tr>\n",
       "  <th>Df Residuals:</th>             <td>    44</td>          <th>  BIC:               </th> <td>  -172.0</td>\n",
       "</tr>\n",
       "<tr>\n",
       "  <th>Df Model:</th>                 <td>     1</td>          <th>                     </th>     <td> </td>   \n",
       "</tr>\n",
       "<tr>\n",
       "  <th>Covariance Type:</th>         <td>nonrobust</td>        <th>                     </th>     <td> </td>   \n",
       "</tr>\n",
       "</table>\n",
       "<table class=\"simpletable\">\n",
       "<tr>\n",
       "             <td></td>                <th>coef</th>     <th>std err</th>      <th>t</th>      <th>P>|t|</th>  <th>[0.025</th>    <th>0.975]</th>  \n",
       "</tr>\n",
       "<tr>\n",
       "  <th>Intercept</th>               <td>    0.1021</td> <td>    0.007</td> <td>   13.948</td> <td> 0.000</td> <td>    0.087</td> <td>    0.117</td>\n",
       "</tr>\n",
       "<tr>\n",
       "  <th>treatment[T.experiment]</th> <td>   -0.0159</td> <td>    0.010</td> <td>   -1.535</td> <td> 0.132</td> <td>   -0.037</td> <td>    0.005</td>\n",
       "</tr>\n",
       "</table>\n",
       "<table class=\"simpletable\">\n",
       "<tr>\n",
       "  <th>Omnibus:</th>       <td>14.160</td> <th>  Durbin-Watson:     </th> <td>   1.908</td>\n",
       "</tr>\n",
       "<tr>\n",
       "  <th>Prob(Omnibus):</th> <td> 0.001</td> <th>  Jarque-Bera (JB):  </th> <td>  15.205</td>\n",
       "</tr>\n",
       "<tr>\n",
       "  <th>Skew:</th>          <td> 1.227</td> <th>  Prob(JB):          </th> <td>0.000499</td>\n",
       "</tr>\n",
       "<tr>\n",
       "  <th>Kurtosis:</th>      <td> 4.383</td> <th>  Cond. No.          </th> <td>    2.62</td>\n",
       "</tr>\n",
       "</table><br/><br/>Notes:<br/>[1] Standard Errors assume that the covariance matrix of the errors is correctly specified."
      ],
      "text/plain": [
       "<class 'statsmodels.iolib.summary.Summary'>\n",
       "\"\"\"\n",
       "                               OLS Regression Results                              \n",
       "===================================================================================\n",
       "Dep. Variable:     enroll_no_pay_per_click   R-squared:                       0.051\n",
       "Model:                                 OLS   Adj. R-squared:                  0.029\n",
       "Method:                      Least Squares   F-statistic:                     2.356\n",
       "Date:                     Mon, 27 Mar 2023   Prob (F-statistic):              0.132\n",
       "Time:                             22:41:49   Log-Likelihood:                 89.832\n",
       "No. Observations:                       46   AIC:                            -175.7\n",
       "Df Residuals:                           44   BIC:                            -172.0\n",
       "Df Model:                                1                                         \n",
       "Covariance Type:                 nonrobust                                         \n",
       "===========================================================================================\n",
       "                              coef    std err          t      P>|t|      [0.025      0.975]\n",
       "-------------------------------------------------------------------------------------------\n",
       "Intercept                   0.1021      0.007     13.948      0.000       0.087       0.117\n",
       "treatment[T.experiment]    -0.0159      0.010     -1.535      0.132      -0.037       0.005\n",
       "==============================================================================\n",
       "Omnibus:                       14.160   Durbin-Watson:                   1.908\n",
       "Prob(Omnibus):                  0.001   Jarque-Bera (JB):               15.205\n",
       "Skew:                           1.227   Prob(JB):                     0.000499\n",
       "Kurtosis:                       4.383   Cond. No.                         2.62\n",
       "==============================================================================\n",
       "\n",
       "Notes:\n",
       "[1] Standard Errors assume that the covariance matrix of the errors is correctly specified.\n",
       "\"\"\""
      ]
     },
     "execution_count": 16,
     "metadata": {},
     "output_type": "execute_result"
    }
   ],
   "source": [
    "# bivariate regression on enrollment and treatment\n",
    "bi_model = smf.ols(formula =\n",
    "                    'enroll_no_pay_per_click ~ treatment',\n",
    "                      data = df_new).fit()\n",
    "bi_model.summary()"
   ]
  },
  {
   "attachments": {},
   "cell_type": "markdown",
   "metadata": {},
   "source": [
    "* The result of the bivariate regression model is exactly the same as the t-test in Exercise 10 with the coefficient of `treatment` being -0.0159, and a p-value equals 0.132."
   ]
  },
  {
   "attachments": {},
   "cell_type": "markdown",
   "metadata": {},
   "source": [
    "## Exercise 12\n",
    "### Add indicator variables for the day of each observation"
   ]
  },
  {
   "cell_type": "code",
   "execution_count": 17,
   "metadata": {},
   "outputs": [
    {
     "data": {
      "text/html": [
       "<table class=\"simpletable\">\n",
       "<caption>OLS Regression Results</caption>\n",
       "<tr>\n",
       "  <th>Dep. Variable:</th>    <td>enroll_no_pay_per_click</td> <th>  R-squared:         </th> <td>   0.806</td>\n",
       "</tr>\n",
       "<tr>\n",
       "  <th>Model:</th>                      <td>OLS</td>           <th>  Adj. R-squared:    </th> <td>   0.602</td>\n",
       "</tr>\n",
       "<tr>\n",
       "  <th>Method:</th>                <td>Least Squares</td>      <th>  F-statistic:       </th> <td>   3.962</td>\n",
       "</tr>\n",
       "<tr>\n",
       "  <th>Date:</th>                <td>Mon, 27 Mar 2023</td>     <th>  Prob (F-statistic):</th> <td>0.000978</td>\n",
       "</tr>\n",
       "<tr>\n",
       "  <th>Time:</th>                    <td>22:41:49</td>         <th>  Log-Likelihood:    </th> <td>  126.29</td>\n",
       "</tr>\n",
       "<tr>\n",
       "  <th>No. Observations:</th>         <td>    46</td>          <th>  AIC:               </th> <td>  -204.6</td>\n",
       "</tr>\n",
       "<tr>\n",
       "  <th>Df Residuals:</th>             <td>    22</td>          <th>  BIC:               </th> <td>  -160.7</td>\n",
       "</tr>\n",
       "<tr>\n",
       "  <th>Df Model:</th>                 <td>    23</td>          <th>                     </th>     <td> </td>   \n",
       "</tr>\n",
       "<tr>\n",
       "  <th>Covariance Type:</th>         <td>nonrobust</td>        <th>                     </th>     <td> </td>   \n",
       "</tr>\n",
       "</table>\n",
       "<table class=\"simpletable\">\n",
       "<tr>\n",
       "             <td></td>                <th>coef</th>     <th>std err</th>      <th>t</th>      <th>P>|t|</th>  <th>[0.025</th>    <th>0.975]</th>  \n",
       "</tr>\n",
       "<tr>\n",
       "  <th>Intercept</th>               <td>    0.1079</td> <td>    0.016</td> <td>    6.651</td> <td> 0.000</td> <td>    0.074</td> <td>    0.142</td>\n",
       "</tr>\n",
       "<tr>\n",
       "  <th>treatment[T.experiment]</th> <td>   -0.0159</td> <td>    0.007</td> <td>   -2.398</td> <td> 0.025</td> <td>   -0.030</td> <td>   -0.002</td>\n",
       "</tr>\n",
       "<tr>\n",
       "  <th>C(Date)[T.Fri, Oct 24]</th>  <td>    0.0445</td> <td>    0.022</td> <td>    1.983</td> <td> 0.060</td> <td>   -0.002</td> <td>    0.091</td>\n",
       "</tr>\n",
       "<tr>\n",
       "  <th>C(Date)[T.Fri, Oct 31]</th>  <td>   -0.0074</td> <td>    0.022</td> <td>   -0.331</td> <td> 0.744</td> <td>   -0.054</td> <td>    0.039</td>\n",
       "</tr>\n",
       "<tr>\n",
       "  <th>C(Date)[T.Mon, Oct 13]</th>  <td>   -0.0231</td> <td>    0.022</td> <td>   -1.026</td> <td> 0.316</td> <td>   -0.070</td> <td>    0.024</td>\n",
       "</tr>\n",
       "<tr>\n",
       "  <th>C(Date)[T.Mon, Oct 20]</th>  <td>   -0.0285</td> <td>    0.022</td> <td>   -1.270</td> <td> 0.217</td> <td>   -0.075</td> <td>    0.018</td>\n",
       "</tr>\n",
       "<tr>\n",
       "  <th>C(Date)[T.Mon, Oct 27]</th>  <td>    0.0328</td> <td>    0.022</td> <td>    1.458</td> <td> 0.159</td> <td>   -0.014</td> <td>    0.079</td>\n",
       "</tr>\n",
       "<tr>\n",
       "  <th>C(Date)[T.Sat, Nov 1]</th>   <td>   -0.0235</td> <td>    0.022</td> <td>   -1.047</td> <td> 0.306</td> <td>   -0.070</td> <td>    0.023</td>\n",
       "</tr>\n",
       "<tr>\n",
       "  <th>C(Date)[T.Sat, Oct 11]</th>  <td>   -0.0017</td> <td>    0.022</td> <td>   -0.074</td> <td> 0.941</td> <td>   -0.048</td> <td>    0.045</td>\n",
       "</tr>\n",
       "<tr>\n",
       "  <th>C(Date)[T.Sat, Oct 18]</th>  <td>   -0.0438</td> <td>    0.022</td> <td>   -1.950</td> <td> 0.064</td> <td>   -0.090</td> <td>    0.003</td>\n",
       "</tr>\n",
       "<tr>\n",
       "  <th>C(Date)[T.Sat, Oct 25]</th>  <td>   -0.0309</td> <td>    0.022</td> <td>   -1.375</td> <td> 0.183</td> <td>   -0.077</td> <td>    0.016</td>\n",
       "</tr>\n",
       "<tr>\n",
       "  <th>C(Date)[T.Sun, Nov 2]</th>   <td>    0.0549</td> <td>    0.022</td> <td>    2.441</td> <td> 0.023</td> <td>    0.008</td> <td>    0.101</td>\n",
       "</tr>\n",
       "<tr>\n",
       "  <th>C(Date)[T.Sun, Oct 12]</th>  <td>   -0.0347</td> <td>    0.022</td> <td>   -1.542</td> <td> 0.137</td> <td>   -0.081</td> <td>    0.012</td>\n",
       "</tr>\n",
       "<tr>\n",
       "  <th>C(Date)[T.Sun, Oct 19]</th>  <td>   -0.0178</td> <td>    0.022</td> <td>   -0.791</td> <td> 0.437</td> <td>   -0.064</td> <td>    0.029</td>\n",
       "</tr>\n",
       "<tr>\n",
       "  <th>C(Date)[T.Sun, Oct 26]</th>  <td>   -0.0222</td> <td>    0.022</td> <td>   -0.989</td> <td> 0.333</td> <td>   -0.069</td> <td>    0.024</td>\n",
       "</tr>\n",
       "<tr>\n",
       "  <th>C(Date)[T.Thu, Oct 16]</th>  <td>   -0.0228</td> <td>    0.022</td> <td>   -1.016</td> <td> 0.321</td> <td>   -0.069</td> <td>    0.024</td>\n",
       "</tr>\n",
       "<tr>\n",
       "  <th>C(Date)[T.Thu, Oct 23]</th>  <td>   -0.0046</td> <td>    0.022</td> <td>   -0.203</td> <td> 0.841</td> <td>   -0.051</td> <td>    0.042</td>\n",
       "</tr>\n",
       "<tr>\n",
       "  <th>C(Date)[T.Thu, Oct 30]</th>  <td>    0.0588</td> <td>    0.022</td> <td>    2.618</td> <td> 0.016</td> <td>    0.012</td> <td>    0.105</td>\n",
       "</tr>\n",
       "<tr>\n",
       "  <th>C(Date)[T.Tue, Oct 14]</th>  <td>   -0.0417</td> <td>    0.022</td> <td>   -1.855</td> <td> 0.077</td> <td>   -0.088</td> <td>    0.005</td>\n",
       "</tr>\n",
       "<tr>\n",
       "  <th>C(Date)[T.Tue, Oct 21]</th>  <td>   -0.0059</td> <td>    0.022</td> <td>   -0.260</td> <td> 0.797</td> <td>   -0.052</td> <td>    0.041</td>\n",
       "</tr>\n",
       "<tr>\n",
       "  <th>C(Date)[T.Tue, Oct 28]</th>  <td>   -0.0287</td> <td>    0.022</td> <td>   -1.276</td> <td> 0.215</td> <td>   -0.075</td> <td>    0.018</td>\n",
       "</tr>\n",
       "<tr>\n",
       "  <th>C(Date)[T.Wed, Oct 15]</th>  <td>   -0.0132</td> <td>    0.022</td> <td>   -0.588</td> <td> 0.562</td> <td>   -0.060</td> <td>    0.033</td>\n",
       "</tr>\n",
       "<tr>\n",
       "  <th>C(Date)[T.Wed, Oct 22]</th>  <td>   -0.0220</td> <td>    0.022</td> <td>   -0.980</td> <td> 0.338</td> <td>   -0.069</td> <td>    0.025</td>\n",
       "</tr>\n",
       "<tr>\n",
       "  <th>C(Date)[T.Wed, Oct 29]</th>  <td>    0.0466</td> <td>    0.022</td> <td>    2.076</td> <td> 0.050</td> <td> 4.77e-05</td> <td>    0.093</td>\n",
       "</tr>\n",
       "</table>\n",
       "<table class=\"simpletable\">\n",
       "<tr>\n",
       "  <th>Omnibus:</th>       <td> 3.871</td> <th>  Durbin-Watson:     </th> <td>   1.863</td>\n",
       "</tr>\n",
       "<tr>\n",
       "  <th>Prob(Omnibus):</th> <td> 0.144</td> <th>  Jarque-Bera (JB):  </th> <td>   3.826</td>\n",
       "</tr>\n",
       "<tr>\n",
       "  <th>Skew:</th>          <td>-0.000</td> <th>  Prob(JB):          </th> <td>   0.148</td>\n",
       "</tr>\n",
       "<tr>\n",
       "  <th>Kurtosis:</th>      <td> 4.413</td> <th>  Cond. No.          </th> <td>    27.3</td>\n",
       "</tr>\n",
       "</table><br/><br/>Notes:<br/>[1] Standard Errors assume that the covariance matrix of the errors is correctly specified."
      ],
      "text/plain": [
       "<class 'statsmodels.iolib.summary.Summary'>\n",
       "\"\"\"\n",
       "                               OLS Regression Results                              \n",
       "===================================================================================\n",
       "Dep. Variable:     enroll_no_pay_per_click   R-squared:                       0.806\n",
       "Model:                                 OLS   Adj. R-squared:                  0.602\n",
       "Method:                      Least Squares   F-statistic:                     3.962\n",
       "Date:                     Mon, 27 Mar 2023   Prob (F-statistic):           0.000978\n",
       "Time:                             22:41:49   Log-Likelihood:                 126.29\n",
       "No. Observations:                       46   AIC:                            -204.6\n",
       "Df Residuals:                           22   BIC:                            -160.7\n",
       "Df Model:                               23                                         \n",
       "Covariance Type:                 nonrobust                                         \n",
       "===========================================================================================\n",
       "                              coef    std err          t      P>|t|      [0.025      0.975]\n",
       "-------------------------------------------------------------------------------------------\n",
       "Intercept                   0.1079      0.016      6.651      0.000       0.074       0.142\n",
       "treatment[T.experiment]    -0.0159      0.007     -2.398      0.025      -0.030      -0.002\n",
       "C(Date)[T.Fri, Oct 24]      0.0445      0.022      1.983      0.060      -0.002       0.091\n",
       "C(Date)[T.Fri, Oct 31]     -0.0074      0.022     -0.331      0.744      -0.054       0.039\n",
       "C(Date)[T.Mon, Oct 13]     -0.0231      0.022     -1.026      0.316      -0.070       0.024\n",
       "C(Date)[T.Mon, Oct 20]     -0.0285      0.022     -1.270      0.217      -0.075       0.018\n",
       "C(Date)[T.Mon, Oct 27]      0.0328      0.022      1.458      0.159      -0.014       0.079\n",
       "C(Date)[T.Sat, Nov 1]      -0.0235      0.022     -1.047      0.306      -0.070       0.023\n",
       "C(Date)[T.Sat, Oct 11]     -0.0017      0.022     -0.074      0.941      -0.048       0.045\n",
       "C(Date)[T.Sat, Oct 18]     -0.0438      0.022     -1.950      0.064      -0.090       0.003\n",
       "C(Date)[T.Sat, Oct 25]     -0.0309      0.022     -1.375      0.183      -0.077       0.016\n",
       "C(Date)[T.Sun, Nov 2]       0.0549      0.022      2.441      0.023       0.008       0.101\n",
       "C(Date)[T.Sun, Oct 12]     -0.0347      0.022     -1.542      0.137      -0.081       0.012\n",
       "C(Date)[T.Sun, Oct 19]     -0.0178      0.022     -0.791      0.437      -0.064       0.029\n",
       "C(Date)[T.Sun, Oct 26]     -0.0222      0.022     -0.989      0.333      -0.069       0.024\n",
       "C(Date)[T.Thu, Oct 16]     -0.0228      0.022     -1.016      0.321      -0.069       0.024\n",
       "C(Date)[T.Thu, Oct 23]     -0.0046      0.022     -0.203      0.841      -0.051       0.042\n",
       "C(Date)[T.Thu, Oct 30]      0.0588      0.022      2.618      0.016       0.012       0.105\n",
       "C(Date)[T.Tue, Oct 14]     -0.0417      0.022     -1.855      0.077      -0.088       0.005\n",
       "C(Date)[T.Tue, Oct 21]     -0.0059      0.022     -0.260      0.797      -0.052       0.041\n",
       "C(Date)[T.Tue, Oct 28]     -0.0287      0.022     -1.276      0.215      -0.075       0.018\n",
       "C(Date)[T.Wed, Oct 15]     -0.0132      0.022     -0.588      0.562      -0.060       0.033\n",
       "C(Date)[T.Wed, Oct 22]     -0.0220      0.022     -0.980      0.338      -0.069       0.025\n",
       "C(Date)[T.Wed, Oct 29]      0.0466      0.022      2.076      0.050    4.77e-05       0.093\n",
       "==============================================================================\n",
       "Omnibus:                        3.871   Durbin-Watson:                   1.863\n",
       "Prob(Omnibus):                  0.144   Jarque-Bera (JB):                3.826\n",
       "Skew:                          -0.000   Prob(JB):                        0.148\n",
       "Kurtosis:                       4.413   Cond. No.                         27.3\n",
       "==============================================================================\n",
       "\n",
       "Notes:\n",
       "[1] Standard Errors assume that the covariance matrix of the errors is correctly specified.\n",
       "\"\"\""
      ]
     },
     "execution_count": 17,
     "metadata": {},
     "output_type": "execute_result"
    }
   ],
   "source": [
    "# add date as indicator\n",
    "model_new = smf.ols(formula = 'enroll_no_pay_per_click ~ treatment + C(Date)',\n",
    "                     data = df_new).fit()\n",
    "model_new.summary()"
   ]
  },
  {
   "cell_type": "code",
   "execution_count": 18,
   "metadata": {},
   "outputs": [
    {
     "name": "stdout",
     "output_type": "stream",
     "text": [
      "the change in std of enrollment-payments per click is:  30.0 %\n"
     ]
    }
   ],
   "source": [
    "# compute the change in std of enrollment-payments\n",
    "print('the change in std of enrollment-payments per click is: ',\n",
    "       round((0.0100-0.007)/0.0100*100,2), '%')"
   ]
  },
  {
   "attachments": {},
   "cell_type": "markdown",
   "metadata": {},
   "source": [
    "* After adding indicator variables for the day of each observation, the standard errors on the `treatment` variable decreases by 30.0%. "
   ]
  },
  {
   "attachments": {},
   "cell_type": "markdown",
   "metadata": {},
   "source": [
    "## Exercise 13\n",
    "\n",
    "* Given the result above, the differences in the average number of enrollments between the two groups is statistically significant with a p-value equals to 0.025(<0.05). \n",
    "\n",
    "* Therefore, the trial implys that by asking how much time student had available to devote to the course, Udacity is able to reduce the number of frustrated students who left the free trial because they didn’t have enough time – without significantly reducing the number of students to continue past the free trial and eventually complete the course. That is, Udacity could improve the overall student experience and improve coaches’ capacity to support students who are likely to complete the course by launching their new version of the website."
   ]
  },
  {
   "attachments": {},
   "cell_type": "markdown",
   "metadata": {},
   "source": [
    "## Exercise 14\n",
    "### Add indicators for day of the week "
   ]
  },
  {
   "cell_type": "code",
   "execution_count": 19,
   "metadata": {},
   "outputs": [
    {
     "data": {
      "text/html": [
       "<div>\n",
       "<style scoped>\n",
       "    .dataframe tbody tr th:only-of-type {\n",
       "        vertical-align: middle;\n",
       "    }\n",
       "\n",
       "    .dataframe tbody tr th {\n",
       "        vertical-align: top;\n",
       "    }\n",
       "\n",
       "    .dataframe thead th {\n",
       "        text-align: right;\n",
       "    }\n",
       "</style>\n",
       "<table border=\"1\" class=\"dataframe\">\n",
       "  <thead>\n",
       "    <tr style=\"text-align: right;\">\n",
       "      <th></th>\n",
       "      <th>Date</th>\n",
       "      <th>Pageviews</th>\n",
       "      <th>Clicks</th>\n",
       "      <th>Enrollments</th>\n",
       "      <th>Payments</th>\n",
       "      <th>treatment</th>\n",
       "      <th>enroll_no_pay_per_click</th>\n",
       "      <th>Day</th>\n",
       "    </tr>\n",
       "  </thead>\n",
       "  <tbody>\n",
       "    <tr>\n",
       "      <th>1</th>\n",
       "      <td>Sun, Oct 12</td>\n",
       "      <td>9102</td>\n",
       "      <td>779</td>\n",
       "      <td>147.0</td>\n",
       "      <td>70.0</td>\n",
       "      <td>control</td>\n",
       "      <td>0.098845</td>\n",
       "      <td>Sun</td>\n",
       "    </tr>\n",
       "    <tr>\n",
       "      <th>8</th>\n",
       "      <td>Sun, Oct 19</td>\n",
       "      <td>8434</td>\n",
       "      <td>697</td>\n",
       "      <td>120.0</td>\n",
       "      <td>77.0</td>\n",
       "      <td>experiment</td>\n",
       "      <td>0.061693</td>\n",
       "      <td>Sun</td>\n",
       "    </tr>\n",
       "    <tr>\n",
       "      <th>1</th>\n",
       "      <td>Sun, Oct 12</td>\n",
       "      <td>9288</td>\n",
       "      <td>785</td>\n",
       "      <td>116.0</td>\n",
       "      <td>91.0</td>\n",
       "      <td>experiment</td>\n",
       "      <td>0.031847</td>\n",
       "      <td>Sun</td>\n",
       "    </tr>\n",
       "    <tr>\n",
       "      <th>15</th>\n",
       "      <td>Sun, Oct 26</td>\n",
       "      <td>8896</td>\n",
       "      <td>708</td>\n",
       "      <td>161.0</td>\n",
       "      <td>104.0</td>\n",
       "      <td>control</td>\n",
       "      <td>0.080508</td>\n",
       "      <td>Sun</td>\n",
       "    </tr>\n",
       "    <tr>\n",
       "      <th>18</th>\n",
       "      <td>Wed, Oct 29</td>\n",
       "      <td>9262</td>\n",
       "      <td>727</td>\n",
       "      <td>201.0</td>\n",
       "      <td>96.0</td>\n",
       "      <td>experiment</td>\n",
       "      <td>0.144429</td>\n",
       "      <td>Wed</td>\n",
       "    </tr>\n",
       "  </tbody>\n",
       "</table>\n",
       "</div>"
      ],
      "text/plain": [
       "           Date  Pageviews  Clicks  Enrollments  Payments   treatment  \\\n",
       "1   Sun, Oct 12       9102     779        147.0      70.0     control   \n",
       "8   Sun, Oct 19       8434     697        120.0      77.0  experiment   \n",
       "1   Sun, Oct 12       9288     785        116.0      91.0  experiment   \n",
       "15  Sun, Oct 26       8896     708        161.0     104.0     control   \n",
       "18  Wed, Oct 29       9262     727        201.0      96.0  experiment   \n",
       "\n",
       "    enroll_no_pay_per_click  Day  \n",
       "1                  0.098845  Sun  \n",
       "8                  0.061693  Sun  \n",
       "1                  0.031847  Sun  \n",
       "15                 0.080508  Sun  \n",
       "18                 0.144429  Wed  "
      ]
     },
     "execution_count": 19,
     "metadata": {},
     "output_type": "execute_result"
    }
   ],
   "source": [
    "# add indicators for the day of the week\n",
    "# extract the first 3 letters of the Date\n",
    "df_new['Day'] = df_new['Date'].str[:3]\n",
    "df_new.sample(5)\n"
   ]
  },
  {
   "cell_type": "code",
   "execution_count": 20,
   "metadata": {},
   "outputs": [
    {
     "data": {
      "text/html": [
       "<table class=\"simpletable\">\n",
       "<caption>OLS Regression Results</caption>\n",
       "<tr>\n",
       "  <th>Dep. Variable:</th>    <td>enroll_no_pay_per_click</td> <th>  R-squared:         </th> <td>   0.215</td>\n",
       "</tr>\n",
       "<tr>\n",
       "  <th>Model:</th>                      <td>OLS</td>           <th>  Adj. R-squared:    </th> <td>   0.070</td>\n",
       "</tr>\n",
       "<tr>\n",
       "  <th>Method:</th>                <td>Least Squares</td>      <th>  F-statistic:       </th> <td>   1.487</td>\n",
       "</tr>\n",
       "<tr>\n",
       "  <th>Date:</th>                <td>Mon, 27 Mar 2023</td>     <th>  Prob (F-statistic):</th>  <td> 0.201</td> \n",
       "</tr>\n",
       "<tr>\n",
       "  <th>Time:</th>                    <td>22:41:49</td>         <th>  Log-Likelihood:    </th> <td>  94.201</td>\n",
       "</tr>\n",
       "<tr>\n",
       "  <th>No. Observations:</th>         <td>    46</td>          <th>  AIC:               </th> <td>  -172.4</td>\n",
       "</tr>\n",
       "<tr>\n",
       "  <th>Df Residuals:</th>             <td>    38</td>          <th>  BIC:               </th> <td>  -157.8</td>\n",
       "</tr>\n",
       "<tr>\n",
       "  <th>Df Model:</th>                 <td>     7</td>          <th>                     </th>     <td> </td>   \n",
       "</tr>\n",
       "<tr>\n",
       "  <th>Covariance Type:</th>         <td>nonrobust</td>        <th>                     </th>     <td> </td>   \n",
       "</tr>\n",
       "</table>\n",
       "<table class=\"simpletable\">\n",
       "<tr>\n",
       "             <td></td>                <th>coef</th>     <th>std err</th>      <th>t</th>      <th>P>|t|</th>  <th>[0.025</th>    <th>0.975]</th>  \n",
       "</tr>\n",
       "<tr>\n",
       "  <th>Intercept</th>               <td>    0.1203</td> <td>    0.015</td> <td>    8.070</td> <td> 0.000</td> <td>    0.090</td> <td>    0.150</td>\n",
       "</tr>\n",
       "<tr>\n",
       "  <th>treatment[T.experiment]</th> <td>   -0.0159</td> <td>    0.010</td> <td>   -1.569</td> <td> 0.125</td> <td>   -0.036</td> <td>    0.005</td>\n",
       "</tr>\n",
       "<tr>\n",
       "  <th>C(Day)[T.Mon]</th>           <td>   -0.0186</td> <td>    0.020</td> <td>   -0.940</td> <td> 0.353</td> <td>   -0.059</td> <td>    0.021</td>\n",
       "</tr>\n",
       "<tr>\n",
       "  <th>C(Day)[T.Sat]</th>           <td>   -0.0373</td> <td>    0.019</td> <td>   -2.013</td> <td> 0.051</td> <td>   -0.075</td> <td>    0.000</td>\n",
       "</tr>\n",
       "<tr>\n",
       "  <th>C(Day)[T.Sun]</th>           <td>   -0.0173</td> <td>    0.019</td> <td>   -0.934</td> <td> 0.356</td> <td>   -0.055</td> <td>    0.020</td>\n",
       "</tr>\n",
       "<tr>\n",
       "  <th>C(Day)[T.Thu]</th>           <td>   -0.0019</td> <td>    0.020</td> <td>   -0.095</td> <td> 0.925</td> <td>   -0.042</td> <td>    0.038</td>\n",
       "</tr>\n",
       "<tr>\n",
       "  <th>C(Day)[T.Tue]</th>           <td>   -0.0378</td> <td>    0.020</td> <td>   -1.905</td> <td> 0.064</td> <td>   -0.078</td> <td>    0.002</td>\n",
       "</tr>\n",
       "<tr>\n",
       "  <th>C(Day)[T.Wed]</th>           <td>   -0.0086</td> <td>    0.020</td> <td>   -0.432</td> <td> 0.668</td> <td>   -0.049</td> <td>    0.032</td>\n",
       "</tr>\n",
       "</table>\n",
       "<table class=\"simpletable\">\n",
       "<tr>\n",
       "  <th>Omnibus:</th>       <td>12.955</td> <th>  Durbin-Watson:     </th> <td>   1.745</td>\n",
       "</tr>\n",
       "<tr>\n",
       "  <th>Prob(Omnibus):</th> <td> 0.002</td> <th>  Jarque-Bera (JB):  </th> <td>  13.612</td>\n",
       "</tr>\n",
       "<tr>\n",
       "  <th>Skew:</th>          <td> 1.110</td> <th>  Prob(JB):          </th> <td> 0.00111</td>\n",
       "</tr>\n",
       "<tr>\n",
       "  <th>Kurtosis:</th>      <td> 4.474</td> <th>  Cond. No.          </th> <td>    9.27</td>\n",
       "</tr>\n",
       "</table><br/><br/>Notes:<br/>[1] Standard Errors assume that the covariance matrix of the errors is correctly specified."
      ],
      "text/plain": [
       "<class 'statsmodels.iolib.summary.Summary'>\n",
       "\"\"\"\n",
       "                               OLS Regression Results                              \n",
       "===================================================================================\n",
       "Dep. Variable:     enroll_no_pay_per_click   R-squared:                       0.215\n",
       "Model:                                 OLS   Adj. R-squared:                  0.070\n",
       "Method:                      Least Squares   F-statistic:                     1.487\n",
       "Date:                     Mon, 27 Mar 2023   Prob (F-statistic):              0.201\n",
       "Time:                             22:41:49   Log-Likelihood:                 94.201\n",
       "No. Observations:                       46   AIC:                            -172.4\n",
       "Df Residuals:                           38   BIC:                            -157.8\n",
       "Df Model:                                7                                         \n",
       "Covariance Type:                 nonrobust                                         \n",
       "===========================================================================================\n",
       "                              coef    std err          t      P>|t|      [0.025      0.975]\n",
       "-------------------------------------------------------------------------------------------\n",
       "Intercept                   0.1203      0.015      8.070      0.000       0.090       0.150\n",
       "treatment[T.experiment]    -0.0159      0.010     -1.569      0.125      -0.036       0.005\n",
       "C(Day)[T.Mon]              -0.0186      0.020     -0.940      0.353      -0.059       0.021\n",
       "C(Day)[T.Sat]              -0.0373      0.019     -2.013      0.051      -0.075       0.000\n",
       "C(Day)[T.Sun]              -0.0173      0.019     -0.934      0.356      -0.055       0.020\n",
       "C(Day)[T.Thu]              -0.0019      0.020     -0.095      0.925      -0.042       0.038\n",
       "C(Day)[T.Tue]              -0.0378      0.020     -1.905      0.064      -0.078       0.002\n",
       "C(Day)[T.Wed]              -0.0086      0.020     -0.432      0.668      -0.049       0.032\n",
       "==============================================================================\n",
       "Omnibus:                       12.955   Durbin-Watson:                   1.745\n",
       "Prob(Omnibus):                  0.002   Jarque-Bera (JB):               13.612\n",
       "Skew:                           1.110   Prob(JB):                      0.00111\n",
       "Kurtosis:                       4.474   Cond. No.                         9.27\n",
       "==============================================================================\n",
       "\n",
       "Notes:\n",
       "[1] Standard Errors assume that the covariance matrix of the errors is correctly specified.\n",
       "\"\"\""
      ]
     },
     "execution_count": 20,
     "metadata": {},
     "output_type": "execute_result"
    }
   ],
   "source": [
    "model_day = smf.ols(formula = 'enroll_no_pay_per_click ~ treatment + C(Day)',\n",
    "                     data = df_new).fit()\n",
    "model_day.summary()"
   ]
  }
 ],
 "metadata": {
  "kernelspec": {
   "display_name": "base",
   "language": "python",
   "name": "python3"
  },
  "language_info": {
   "codemirror_mode": {
    "name": "ipython",
    "version": 3
   },
   "file_extension": ".py",
   "mimetype": "text/x-python",
   "name": "python",
   "nbconvert_exporter": "python",
   "pygments_lexer": "ipython3",
   "version": "3.10.6"
  },
  "orig_nbformat": 4,
  "vscode": {
   "interpreter": {
    "hash": "3d597f4c481aa0f25dceb95d2a0067e73c0966dcbd003d741d821a7208527ecf"
   }
  }
 },
 "nbformat": 4,
 "nbformat_minor": 2
}
